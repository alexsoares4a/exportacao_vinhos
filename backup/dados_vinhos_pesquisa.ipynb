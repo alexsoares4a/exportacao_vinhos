{
 "cells": [
  {
   "cell_type": "code",
   "execution_count": null,
   "metadata": {},
   "outputs": [],
   "source": []
  },
  {
   "cell_type": "markdown",
   "metadata": {},
   "source": [
    "### Mercado mundial do vinho: Produção x Consumo Global em 2022\n",
    "* https://vinhocapital.com.br/2023/10/20/mercado-de-vinho-producao-mundial-de-vinhos-x-consumo-global-em-2022/\n",
    "\n",
    "Relatório da OIV (Organização Internacional da Vinha e do Vinho): A OIV publica relatórios anuais com dados sobre o mercado do vinho, incluindo informações sobre produção e consumo. Em 2022, a produção mundial de vinho foi estimada em 258 milhões de hectolitros (Mhl), com Itália, França e Espanha liderando a produção1. Portugal também está entre os maiores produtores, ocupando o 10º lugar com 6,7 milhões de hectolitros1.\n",
    "https://www.forbespt.com/conheca-os-12-maiores-produtores-de-vinho-do-mundo/\n",
    "\n",
    "\n",
    "Ranking dos maiores consumidores de vinho: Os Estados Unidos lideram o ranking de consumo de vinho, seguidos por França, Itália, Alemanha e Reino Unido2.\n",
    "https://blogdosvinhos.com.br/ranking-2022-dos-paises-que-mais-tomam-vinho/\n",
    "\n",
    "Esses países representam 50% do consumo global de vinho3.\n",
    "https://vinhocapital.com.br/2023/10/20/mercado-de-vinho-producao-mundial-de-vinhos-x-consumo-global-em-2022/\n",
    "\n",
    "Dados específicos por país: Se você deseja dados detalhados por país, pode consultar fontes específicas para cada nação. Por exemplo, a Itália fechou 2021 como o maior produtor de vinho do mundo, com 49,1 milhões de hectolitros, seguida por França e Espanha4.\n",
    "https://bing.com/search?q=maiores+produtores+mundiais+de+vinho\n",
    "\n"
   ]
  }
 ],
 "metadata": {
  "language_info": {
   "name": "python"
  }
 },
 "nbformat": 4,
 "nbformat_minor": 2
}
